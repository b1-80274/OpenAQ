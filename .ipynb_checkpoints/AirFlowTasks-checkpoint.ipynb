{
 "cells": [
  {
   "cell_type": "code",
   "execution_count": 1,
   "id": "2a0885f9-fe02-4325-8101-6b940ae67cce",
   "metadata": {},
   "outputs": [
    {
     "name": "stderr",
     "output_type": "stream",
     "text": [
      "Setting default log level to \"WARN\".\n",
      "To adjust logging level use sc.setLogLevel(newLevel). For SparkR, use setLogLevel(newLevel).\n",
      "24/02/09 23:00:10 WARN NativeCodeLoader: Unable to load native-hadoop library for your platform... using builtin-java classes where applicable\n"
     ]
    }
   ],
   "source": [
    "from pyspark.sql import SparkSession\n",
    "from pyspark.sql.functions import *\n",
    "\n",
    "spark = SparkSession.builder.appName('task1').getOrCreate()"
   ]
  },
  {
   "cell_type": "code",
   "execution_count": 6,
   "id": "637c8e7f-5944-4ddf-a336-4f9006db3ceb",
   "metadata": {},
   "outputs": [],
   "source": [
    "df = spark.read.orc(\"hdfs://localhost:9000/user/OpenAQ/data/input\")\n",
    "mxd = df.select('local').agg(max('local'))"
   ]
  },
  {
   "cell_type": "code",
   "execution_count": 10,
   "id": "a9cddd48-fce0-425a-bc3c-7102218bc74d",
   "metadata": {},
   "outputs": [
    {
     "name": "stdout",
     "output_type": "stream",
     "text": [
      "+-------------------------+\n",
      "|max(local)               |\n",
      "+-------------------------+\n",
      "|2024-02-02T10:59:26+05:30|\n",
      "+-------------------------+\n",
      "\n"
     ]
    }
   ],
   "source": [
    "mxd.show(truncate=False)"
   ]
  },
  {
   "cell_type": "code",
   "execution_count": 20,
   "id": "47ce8f46-8424-4a90-90ba-7fdcae85272e",
   "metadata": {},
   "outputs": [
    {
     "name": "stdout",
     "output_type": "stream",
     "text": [
      "+----+--------------------+-------+------------------------------------------------------+----------------------+----------+--------+-----------------+----------+---------+---------------+-------------+------+\n",
      "|city|coordinates         |country|date                                                  |entity                |isAnalysis|isMobile|location         |locationId|parameter|sensorType     |unit         |value |\n",
      "+----+--------------------+-------+------------------------------------------------------+----------------------+----------+--------+-----------------+----------+---------+---------------+-------------+------+\n",
      "|NULL|{28.530668, 77.2411}|IN     |{2024-02-02T10:58:32+05:30, 2024-02-02T05:28:32+00:00}|Community Organization|NULL      |false   |Greater Kailash 2|62543     |um003    |low-cost sensor|particles/cm³|178.72|\n",
      "|NULL|{28.530668, 77.2411}|IN     |{2024-02-02T10:56:31+05:30, 2024-02-02T05:26:31+00:00}|Community Organization|NULL      |false   |Greater Kailash 2|62543     |um003    |low-cost sensor|particles/cm³|181.32|\n",
      "|NULL|{28.530668, 77.2411}|IN     |{2024-02-02T10:54:32+05:30, 2024-02-02T05:24:32+00:00}|Community Organization|NULL      |false   |Greater Kailash 2|62543     |um003    |low-cost sensor|particles/cm³|178.12|\n",
      "|NULL|{28.530668, 77.2411}|IN     |{2024-02-02T10:52:32+05:30, 2024-02-02T05:22:32+00:00}|Community Organization|NULL      |false   |Greater Kailash 2|62543     |um003    |low-cost sensor|particles/cm³|173.21|\n",
      "|NULL|{28.530668, 77.2411}|IN     |{2024-02-02T10:50:32+05:30, 2024-02-02T05:20:32+00:00}|Community Organization|NULL      |false   |Greater Kailash 2|62543     |um003    |low-cost sensor|particles/cm³|173.46|\n",
      "|NULL|{28.530668, 77.2411}|IN     |{2024-02-02T10:48:32+05:30, 2024-02-02T05:18:32+00:00}|Community Organization|NULL      |false   |Greater Kailash 2|62543     |um003    |low-cost sensor|particles/cm³|177.02|\n",
      "|NULL|{28.530668, 77.2411}|IN     |{2024-02-02T10:46:31+05:30, 2024-02-02T05:16:31+00:00}|Community Organization|NULL      |false   |Greater Kailash 2|62543     |um003    |low-cost sensor|particles/cm³|176.41|\n",
      "|NULL|{28.530668, 77.2411}|IN     |{2024-02-02T10:44:31+05:30, 2024-02-02T05:14:31+00:00}|Community Organization|NULL      |false   |Greater Kailash 2|62543     |um003    |low-cost sensor|particles/cm³|181.9 |\n",
      "|NULL|{28.530668, 77.2411}|IN     |{2024-02-02T10:42:31+05:30, 2024-02-02T05:12:31+00:00}|Community Organization|NULL      |false   |Greater Kailash 2|62543     |um003    |low-cost sensor|particles/cm³|183.34|\n",
      "|NULL|{28.530668, 77.2411}|IN     |{2024-02-02T10:40:32+05:30, 2024-02-02T05:10:32+00:00}|Community Organization|NULL      |false   |Greater Kailash 2|62543     |um003    |low-cost sensor|particles/cm³|181.22|\n",
      "|NULL|{28.530668, 77.2411}|IN     |{2024-02-02T10:38:31+05:30, 2024-02-02T05:08:31+00:00}|Community Organization|NULL      |false   |Greater Kailash 2|62543     |um003    |low-cost sensor|particles/cm³|176.89|\n",
      "|NULL|{28.530668, 77.2411}|IN     |{2024-02-02T10:36:32+05:30, 2024-02-02T05:06:32+00:00}|Community Organization|NULL      |false   |Greater Kailash 2|62543     |um003    |low-cost sensor|particles/cm³|174.29|\n",
      "|NULL|{28.530668, 77.2411}|IN     |{2024-02-02T10:34:31+05:30, 2024-02-02T05:04:31+00:00}|Community Organization|NULL      |false   |Greater Kailash 2|62543     |um003    |low-cost sensor|particles/cm³|172.02|\n",
      "|NULL|{28.530668, 77.2411}|IN     |{2024-02-02T10:32:30+05:30, 2024-02-02T05:02:30+00:00}|Community Organization|NULL      |false   |Greater Kailash 2|62543     |um003    |low-cost sensor|particles/cm³|173.92|\n",
      "|NULL|{28.530668, 77.2411}|IN     |{2024-02-02T10:30:31+05:30, 2024-02-02T05:00:31+00:00}|Community Organization|NULL      |false   |Greater Kailash 2|62543     |um003    |low-cost sensor|particles/cm³|176.36|\n",
      "|NULL|{28.530668, 77.2411}|IN     |{2024-02-02T10:28:30+05:30, 2024-02-02T04:58:30+00:00}|Community Organization|NULL      |false   |Greater Kailash 2|62543     |um003    |low-cost sensor|particles/cm³|178.24|\n",
      "|NULL|{28.530668, 77.2411}|IN     |{2024-02-02T10:26:31+05:30, 2024-02-02T04:56:31+00:00}|Community Organization|NULL      |false   |Greater Kailash 2|62543     |um003    |low-cost sensor|particles/cm³|177.53|\n",
      "|NULL|{28.530668, 77.2411}|IN     |{2024-02-02T10:24:31+05:30, 2024-02-02T04:54:31+00:00}|Community Organization|NULL      |false   |Greater Kailash 2|62543     |um003    |low-cost sensor|particles/cm³|174.35|\n",
      "|NULL|{28.530668, 77.2411}|IN     |{2024-02-02T10:22:30+05:30, 2024-02-02T04:52:30+00:00}|Community Organization|NULL      |false   |Greater Kailash 2|62543     |um003    |low-cost sensor|particles/cm³|175.01|\n",
      "|NULL|{28.530668, 77.2411}|IN     |{2024-02-02T10:20:31+05:30, 2024-02-02T04:50:31+00:00}|Community Organization|NULL      |false   |Greater Kailash 2|62543     |um003    |low-cost sensor|particles/cm³|178.18|\n",
      "+----+--------------------+-------+------------------------------------------------------+----------------------+----------+--------+-----------------+----------+---------+---------------+-------------+------+\n",
      "only showing top 20 rows\n",
      "\n"
     ]
    }
   ],
   "source": [
    "data = spark.read\\\n",
    "    .option(\"multiline\",\"true\") \\\n",
    "    .json('data/2024/02/01/62543/')\n",
    "data.show(truncate=False)"
   ]
  },
  {
   "cell_type": "code",
   "execution_count": 16,
   "id": "c62977c8-b6e8-4bcb-913b-ca6e950a57b5",
   "metadata": {},
   "outputs": [
    {
     "name": "stdout",
     "output_type": "stream",
     "text": [
      "+-------------------------+\n",
      "|min(local)               |\n",
      "+-------------------------+\n",
      "|2024-02-02T07:38:28+05:30|\n",
      "+-------------------------+\n",
      "\n"
     ]
    }
   ],
   "source": [
    "data2.agg(min('local')).show(truncate=False)"
   ]
  },
  {
   "cell_type": "code",
   "execution_count": 18,
   "id": "dd9bf6f0-d556-4162-a8a9-ba2821300711",
   "metadata": {},
   "outputs": [
    {
     "name": "stdout",
     "output_type": "stream",
     "text": [
      "+------------+\n",
      "|count(local)|\n",
      "+------------+\n",
      "|100         |\n",
      "+------------+\n",
      "\n"
     ]
    }
   ],
   "source": [
    "data2.agg(('local')).show(truncate=False)"
   ]
  },
  {
   "cell_type": "code",
   "execution_count": 23,
   "id": "fb86fa9e-01e1-4a5f-b0f8-2dde951d2524",
   "metadata": {},
   "outputs": [
    {
     "data": {
      "text/plain": [
       "set"
      ]
     },
     "execution_count": 23,
     "metadata": {},
     "output_type": "execute_result"
    }
   ],
   "source": [
    "govt_sensors = set([8039,8118,8172,8557,8558])\n"
   ]
  },
  {
   "cell_type": "code",
   "execution_count": 29,
   "id": "b597e494-df44-43a6-a255-710916d18080",
   "metadata": {},
   "outputs": [
    {
     "name": "stdout",
     "output_type": "stream",
     "text": [
      "2024-02-01 00:00:00 - 2024-02-01 03:00:00\n",
      "2024-02-01 03:00:00 - 2024-02-01 06:00:00\n",
      "2024-02-01 06:00:00 - 2024-02-01 09:00:00\n",
      "2024-02-01 09:00:00 - 2024-02-01 12:00:00\n",
      "2024-02-01 12:00:00 - 2024-02-01 15:00:00\n",
      "2024-02-01 15:00:00 - 2024-02-01 18:00:00\n",
      "2024-02-01 18:00:00 - 2024-02-01 21:00:00\n",
      "2024-02-01 21:00:00 - 2024-02-02 00:00:00\n"
     ]
    }
   ],
   "source": [
    "from datetime import datetime, timedelta\n",
    "\n",
    "# Start timestamp\n",
    "start_timestamp = datetime(2024, 2, 1, 0, 0, 0)\n",
    "\n",
    "# Number of intervals\n",
    "num_intervals = 8  # Adjust as needed\n",
    "\n",
    "# Print timestamps with 3-hour intervals\n",
    "for i in range(num_intervals):\n",
    "    current_timestamp1 = start_timestamp + timedelta(hours=3 * i)\n",
    "    formatted_timestamp1 = current_timestamp.strftime('%Y-%m-%dT%H:%M:%S')\n",
    "    current_timestamp2 = current_timestamp1 + timedelta(hours=3)\n",
    "    formatted_timestamp2 = current_timestamp.strftime('%Y-%m-%dT%H:%M:%S')\n",
    "    print(f'{current_timestamp1} - {current_timestamp2}')"
   ]
  },
  {
   "cell_type": "code",
   "execution_count": null,
   "id": "ce1f0e1b-3429-4f55-b638-f531aba2579b",
   "metadata": {},
   "outputs": [],
   "source": []
  }
 ],
 "metadata": {
  "kernelspec": {
   "display_name": "Python 3 (ipykernel)",
   "language": "python",
   "name": "python3"
  },
  "language_info": {
   "codemirror_mode": {
    "name": "ipython",
    "version": 3
   },
   "file_extension": ".py",
   "mimetype": "text/x-python",
   "name": "python",
   "nbconvert_exporter": "python",
   "pygments_lexer": "ipython3",
   "version": "3.10.12"
  }
 },
 "nbformat": 4,
 "nbformat_minor": 5
}
